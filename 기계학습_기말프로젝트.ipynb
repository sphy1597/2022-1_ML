{
  "nbformat": 4,
  "nbformat_minor": 0,
  "metadata": {
    "colab": {
      "provenance": [],
      "collapsed_sections": [
        "tv-b3-fxfwUW"
      ],
      "authorship_tag": "ABX9TyMUExR+a1zw4HO6YHXdhMmW",
      "include_colab_link": true
    },
    "kernelspec": {
      "name": "python3",
      "display_name": "Python 3"
    },
    "language_info": {
      "name": "python"
    },
    "gpuClass": "standard"
  },
  "cells": [
    {
      "cell_type": "markdown",
      "metadata": {
        "id": "view-in-github",
        "colab_type": "text"
      },
      "source": [
        "<a href=\"https://colab.research.google.com/github/sphy1597/2022-1_ML/blob/main/%EA%B8%B0%EA%B3%84%ED%95%99%EC%8A%B5_%EA%B8%B0%EB%A7%90%ED%94%84%EB%A1%9C%EC%A0%9D%ED%8A%B8.ipynb\" target=\"_parent\"><img src=\"https://colab.research.google.com/assets/colab-badge.svg\" alt=\"Open In Colab\"/></a>"
      ]
    },
    {
      "cell_type": "code",
      "source": [
        "import tensorflow as tf\n",
        "import keras\n",
        "import numpy as np\n",
        "import matplotlib.pyplot as plt\n",
        "from keras.preprocessing.image import ImageDataGenerator\n",
        "import keras.utils as image\n",
        "\n",
        "from keras.models import Sequential\n",
        "from keras.layers import InputLayer, BatchNormalization, Dropout, Flatten, Dense, Activation, MaxPooling2D, Conv2D\n",
        "from keras.callbacks import EarlyStopping, ModelCheckpoint\n",
        "from tensorflow.keras.applications.resnet50 import ResNet50\n",
        "from keras.utils import to_categorical\n",
        "from keras import optimizers\n",
        "\n",
        "from keras.callbacks import Callback,ModelCheckpoint\n",
        "from keras.models import Sequential,load_model\n",
        "from keras.layers import Dense, Dropout\n",
        "from keras.wrappers.scikit_learn import KerasClassifier\n",
        "import keras.backend as K\n",
        "\n",
        "from typeguard import typechecked\n",
        "from typing import Optional"
      ],
      "metadata": {
        "id": "0XECEbjwm13r"
      },
      "execution_count": 4,
      "outputs": []
    },
    {
      "cell_type": "code",
      "source": [
        "from google.colab import drive\n",
        "drive.mount('/content/drive', force_remount=True)"
      ],
      "metadata": {
        "colab": {
          "base_uri": "https://localhost:8080/"
        },
        "id": "Pajt3fbBpziW",
        "outputId": "b163e0f2-0d63-44d8-e556-53f19f81c9c4"
      },
      "execution_count": 5,
      "outputs": [
        {
          "output_type": "stream",
          "name": "stdout",
          "text": [
            "Mounted at /content/drive\n"
          ]
        }
      ]
    },
    {
      "cell_type": "code",
      "source": [
        "import os\n",
        "os.environ['KAGGLE_USERNAME'] = 'tjsanseozjarhdrhk'\n",
        "os.environ['KAGGLE_KEY'] = '895e90734d3759c98a5573a23ab38677'\n",
        "\n",
        "!kaggel -h"
      ],
      "metadata": {
        "colab": {
          "base_uri": "https://localhost:8080/"
        },
        "id": "306NJ-jzpAIp",
        "outputId": "c99faa68-ab70-4a4a-a342-068e9112abbf"
      },
      "execution_count": 6,
      "outputs": [
        {
          "output_type": "stream",
          "name": "stdout",
          "text": [
            "/bin/bash: kaggel: command not found\n"
          ]
        }
      ]
    },
    {
      "cell_type": "code",
      "source": [
        "!kaggle datasets download -d tourist55/alzheimers-dataset-4-class-of-images"
      ],
      "metadata": {
        "colab": {
          "base_uri": "https://localhost:8080/"
        },
        "id": "OBKCjd3eptsH",
        "outputId": "8dc2be4f-cda9-446a-d5fe-237aa0944b25"
      },
      "execution_count": 7,
      "outputs": [
        {
          "output_type": "stream",
          "name": "stdout",
          "text": [
            "Downloading alzheimers-dataset-4-class-of-images.zip to /content\n",
            "\r  0% 0.00/34.1M [00:00<?, ?B/s]\r 35% 12.0M/34.1M [00:00<00:00, 122MB/s]\r 73% 25.0M/34.1M [00:00<00:00, 105MB/s]\n",
            "\r100% 34.1M/34.1M [00:00<00:00, 126MB/s]\n"
          ]
        }
      ]
    },
    {
      "cell_type": "code",
      "source": [
        "!unzip -qq \"/content/alzheimers-dataset-4-class-of-images.zip\""
      ],
      "metadata": {
        "id": "U-qlU0HDq5q3"
      },
      "execution_count": 8,
      "outputs": []
    },
    {
      "cell_type": "markdown",
      "source": [
        "# test1 cnn"
      ],
      "metadata": {
        "id": "tv-b3-fxfwUW"
      }
    },
    {
      "cell_type": "code",
      "source": [
        "#폴더이름 변경해줘야 됨됨"
      ],
      "metadata": {
        "id": "9RBbuIOy6UhU"
      },
      "execution_count": null,
      "outputs": []
    },
    {
      "cell_type": "code",
      "source": [
        "train_datagen = ImageDataGenerator(rescale = 1./255,\n",
        "                                   validation_split = 0.2,\n",
        "                                  \n",
        "        rotation_range=10,\n",
        "        width_shift_range=0.2,\n",
        "        height_shift_range=0.2,\n",
        "        shear_range=0.2,\n",
        "        zoom_range=0.2,\n",
        "        horizontal_flip=True,\n",
        "        vertical_flip=True,\n",
        "        fill_mode='nearest')\n",
        "\n",
        "valid_datagen = ImageDataGenerator(rescale = 1./255,\n",
        "                                  validation_split = 0.2)\n",
        "\n",
        "test_datagen  = ImageDataGenerator(rescale = 1./255\n",
        "                                  )"
      ],
      "metadata": {
        "id": "Kbx87dH1u-aT"
      },
      "execution_count": null,
      "outputs": []
    },
    {
      "cell_type": "code",
      "source": [
        "\n",
        "train_dataset  = train_datagen.flow_from_directory(directory = '/content/Alzheimer_Dataset/train',\n",
        "                                                   target_size = (224,224),\n",
        "                                                   class_mode = 'categorical',\n",
        "                                                   subset = 'training',\n",
        "                                                   batch_size = 32)"
      ],
      "metadata": {
        "colab": {
          "base_uri": "https://localhost:8080/"
        },
        "id": "-ddjV7MCvY37",
        "outputId": "abef6e88-fffb-40cc-c0a2-dd3b28aa06ac"
      },
      "execution_count": null,
      "outputs": [
        {
          "output_type": "stream",
          "name": "stdout",
          "text": [
            "Found 4098 images belonging to 4 classes.\n"
          ]
        }
      ]
    },
    {
      "cell_type": "code",
      "source": [
        "valid_dataset = valid_datagen.flow_from_directory(directory = '/content/Alzheimer_Dataset/train',\n",
        "                                                  target_size = (224,224),\n",
        "                                                  class_mode = 'categorical',\n",
        "                                                  subset = 'validation',\n",
        "                                                  batch_size = 32)"
      ],
      "metadata": {
        "colab": {
          "base_uri": "https://localhost:8080/"
        },
        "id": "KpvlQmxuwA0y",
        "outputId": "b3f9ecb7-ff92-4da9-85bd-971d1e439cd4"
      },
      "execution_count": null,
      "outputs": [
        {
          "output_type": "stream",
          "name": "stdout",
          "text": [
            "Found 1023 images belonging to 4 classes.\n"
          ]
        }
      ]
    },
    {
      "cell_type": "code",
      "source": [
        "test_dataset = test_datagen.flow_from_directory(directory = '/content/Alzheimer_Dataset/train',\n",
        "                                                  target_size = (224,224),\n",
        "                                                  class_mode = 'categorical',\n",
        "                                                  batch_size = 32)"
      ],
      "metadata": {
        "colab": {
          "base_uri": "https://localhost:8080/"
        },
        "id": "4uK512XOxlOa",
        "outputId": "e139c787-662f-4b9d-deba-201ab993b191"
      },
      "execution_count": null,
      "outputs": [
        {
          "output_type": "stream",
          "name": "stdout",
          "text": [
            "Found 5121 images belonging to 4 classes.\n"
          ]
        }
      ]
    },
    {
      "cell_type": "code",
      "source": [
        "def build_model():\n",
        "    \n",
        "    '''Sequential Model creation'''\n",
        "    model = Sequential()\n",
        "    \n",
        "    model.add(Conv2D(16,(3,3),padding='same',input_shape = (224,224,3),activation='relu'))\n",
        "    \n",
        "    model.add(Conv2D(32,(3,3),padding='same',activation='relu'))\n",
        "    model.add(MaxPooling2D(pool_size=(2,2),strides=2,padding = 'same'))\n",
        "    \n",
        "    model.add(Conv2D(32,(3,3),padding='same',activation='relu'))\n",
        "    \n",
        "    \n",
        "    model.add(Conv2D(64,(3,3),padding='same',activation='relu'))\n",
        "    model.add(MaxPooling2D(pool_size=(2,2),strides=2,padding = 'same'))\n",
        "    \n",
        "    model.add(Conv2D(64,(3,3),padding='same',activation='relu'))\n",
        "    \n",
        "    model.add(Conv2D(128,(3,3),padding='same',activation='relu'))\n",
        "    model.add(MaxPooling2D(pool_size=(2,2),strides=2,padding = 'same'))\n",
        "    \n",
        "    model.add(Conv2D(128,(3,3),padding='same',activation='relu'))\n",
        "    \n",
        "    model.add(Conv2D(128,(3,3),padding='same',activation='relu'))\n",
        "    model.add(MaxPooling2D(pool_size=(2,2),strides=2,padding = 'same'))\n",
        "    \n",
        "    \n",
        "    model.add(Flatten())\n",
        "    model.add(Dense(32))\n",
        "    model.add(Dense(32))\n",
        "    model.add(Dense(32))\n",
        "    model.add(Dense(32))\n",
        "    model.add(Dense(4))\n",
        "    model.add(Activation('softmax'))\n",
        "    \n",
        "    return model\n",
        "\n",
        "model = build_model()\n",
        "model.summary()"
      ],
      "metadata": {
        "colab": {
          "base_uri": "https://localhost:8080/"
        },
        "id": "n1Qk2KtPwK26",
        "outputId": "066611a8-7674-47af-8da1-07f705f3f770"
      },
      "execution_count": null,
      "outputs": [
        {
          "output_type": "stream",
          "name": "stdout",
          "text": [
            "Model: \"sequential\"\n",
            "_________________________________________________________________\n",
            " Layer (type)                Output Shape              Param #   \n",
            "=================================================================\n",
            " conv2d (Conv2D)             (None, 224, 224, 16)      448       \n",
            "                                                                 \n",
            " conv2d_1 (Conv2D)           (None, 224, 224, 32)      4640      \n",
            "                                                                 \n",
            " max_pooling2d (MaxPooling2D  (None, 112, 112, 32)     0         \n",
            " )                                                               \n",
            "                                                                 \n",
            " conv2d_2 (Conv2D)           (None, 112, 112, 32)      9248      \n",
            "                                                                 \n",
            " conv2d_3 (Conv2D)           (None, 112, 112, 64)      18496     \n",
            "                                                                 \n",
            " max_pooling2d_1 (MaxPooling  (None, 56, 56, 64)       0         \n",
            " 2D)                                                             \n",
            "                                                                 \n",
            " conv2d_4 (Conv2D)           (None, 56, 56, 64)        36928     \n",
            "                                                                 \n",
            " conv2d_5 (Conv2D)           (None, 56, 56, 128)       73856     \n",
            "                                                                 \n",
            " max_pooling2d_2 (MaxPooling  (None, 28, 28, 128)      0         \n",
            " 2D)                                                             \n",
            "                                                                 \n",
            " conv2d_6 (Conv2D)           (None, 28, 28, 128)       147584    \n",
            "                                                                 \n",
            " conv2d_7 (Conv2D)           (None, 28, 28, 128)       147584    \n",
            "                                                                 \n",
            " max_pooling2d_3 (MaxPooling  (None, 14, 14, 128)      0         \n",
            " 2D)                                                             \n",
            "                                                                 \n",
            " flatten (Flatten)           (None, 25088)             0         \n",
            "                                                                 \n",
            " dense (Dense)               (None, 32)                802848    \n",
            "                                                                 \n",
            " dense_1 (Dense)             (None, 32)                1056      \n",
            "                                                                 \n",
            " dense_2 (Dense)             (None, 32)                1056      \n",
            "                                                                 \n",
            " dense_3 (Dense)             (None, 32)                1056      \n",
            "                                                                 \n",
            " dense_4 (Dense)             (None, 4)                 132       \n",
            "                                                                 \n",
            " activation (Activation)     (None, 4)                 0         \n",
            "                                                                 \n",
            "=================================================================\n",
            "Total params: 1,244,932\n",
            "Trainable params: 1,244,932\n",
            "Non-trainable params: 0\n",
            "_________________________________________________________________\n"
          ]
        }
      ]
    },
    {
      "cell_type": "code",
      "source": [
        "def f1_score(y_true, y_pred): #taken from old keras source code\n",
        "    true_positives = K.sum(K.round(K.clip(y_true * y_pred, 0, 1)))\n",
        "    possible_positives = K.sum(K.round(K.clip(y_true, 0, 1)))\n",
        "    predicted_positives = K.sum(K.round(K.clip(y_pred, 0, 1)))\n",
        "    precision = true_positives / (predicted_positives + K.epsilon())\n",
        "    recall = true_positives / (possible_positives + K.epsilon())\n",
        "    f1_val = 2*(precision*recall)/(precision+recall+K.epsilon())\n",
        "    return f1_val"
      ],
      "metadata": {
        "id": "OMN2p_M3wMxK"
      },
      "execution_count": null,
      "outputs": []
    },
    {
      "cell_type": "code",
      "source": [
        "METRICS = [\n",
        "      tf.keras.metrics.BinaryAccuracy(name='accuracy'),\n",
        "      tf.keras.metrics.Precision(name='precision'),\n",
        "      tf.keras.metrics.Recall(name='recall'),  \n",
        "      tf.keras.metrics.AUC(name='auc'),\n",
        "        f1_score,\n",
        "]"
      ],
      "metadata": {
        "id": "SdP7-wgqxAxq"
      },
      "execution_count": null,
      "outputs": []
    },
    {
      "cell_type": "code",
      "source": [
        "def exponential_decay(lr0, s):\n",
        "    def exponential_decay_fn(epoch):\n",
        "        return lr0 * 0.1 **(epoch / s)\n",
        "    return exponential_decay_fn\n",
        "\n",
        "exponential_decay_fn = exponential_decay(0.01, 5) # when i run it for 50 epochs\n",
        "\n",
        "lr_scheduler = tf.keras.callbacks.LearningRateScheduler(exponential_decay_fn)"
      ],
      "metadata": {
        "id": "eBdDdaquxBlq"
      },
      "execution_count": null,
      "outputs": []
    },
    {
      "cell_type": "code",
      "source": [
        "model.compile(optimizer=tf.keras.optimizers.Adam(\n",
        "    learning_rate=0.001, beta_1=0.9, beta_2=0.999, epsilon=1e-07, amsgrad=False,\n",
        "    name='Adam',), loss='categorical_crossentropy',metrics=METRICS)"
      ],
      "metadata": {
        "id": "yXFKVhU2xCly"
      },
      "execution_count": null,
      "outputs": []
    },
    {
      "cell_type": "code",
      "source": [
        "history=model.fit(train_dataset,\n",
        "                        validation_data=valid_dataset,\n",
        "                        epochs = 100,\n",
        "                        verbose = 1,\n",
        "                         callbacks=lr_scheduler)"
      ],
      "metadata": {
        "colab": {
          "base_uri": "https://localhost:8080/"
        },
        "id": "Q--5v33MxDfj",
        "outputId": "eb1a7d43-f4f9-41ae-ad88-66a254b01e7d"
      },
      "execution_count": null,
      "outputs": [
        {
          "output_type": "stream",
          "name": "stdout",
          "text": [
            "Epoch 1/100\n",
            "129/129 [==============================] - 49s 382ms/step - loss: 1.0457 - accuracy: 0.7448 - precision: 0.4751 - recall: 0.2003 - auc: 0.7764 - f1_score: 0.1989 - val_loss: 1.0521 - val_accuracy: 0.7500 - val_precision: 0.0000e+00 - val_recall: 0.0000e+00 - val_auc: 0.7302 - val_f1_score: 0.0000e+00 - lr: 0.0100\n",
            "Epoch 2/100\n",
            "129/129 [==============================] - 48s 373ms/step - loss: 1.0418 - accuracy: 0.7501 - precision: 0.5006 - recall: 0.2074 - auc: 0.7784 - f1_score: 0.2059 - val_loss: 1.0445 - val_accuracy: 0.7502 - val_precision: 0.5005 - val_recall: 0.5005 - val_auc: 0.7804 - val_f1_score: 0.5004 - lr: 0.0063\n",
            "Epoch 3/100\n",
            "129/129 [==============================] - 48s 371ms/step - loss: 1.0432 - accuracy: 0.7488 - precision: 0.4958 - recall: 0.2904 - auc: 0.7773 - f1_score: 0.2883 - val_loss: 1.0349 - val_accuracy: 0.7502 - val_precision: 0.5005 - val_recall: 0.5005 - val_auc: 0.7804 - val_f1_score: 0.5004 - lr: 0.0040\n",
            "Epoch 4/100\n",
            "129/129 [==============================] - 49s 383ms/step - loss: 1.0402 - accuracy: 0.7479 - precision: 0.4902 - recall: 0.2067 - auc: 0.7754 - f1_score: 0.2052 - val_loss: 1.0343 - val_accuracy: 0.7500 - val_precision: 0.0000e+00 - val_recall: 0.0000e+00 - val_auc: 0.7804 - val_f1_score: 0.0000e+00 - lr: 0.0025\n",
            "Epoch 5/100\n",
            "129/129 [==============================] - 48s 372ms/step - loss: 1.0385 - accuracy: 0.7493 - precision: 0.4976 - recall: 0.3031 - auc: 0.7783 - f1_score: 0.3009 - val_loss: 1.0350 - val_accuracy: 0.7502 - val_precision: 0.5005 - val_recall: 0.5005 - val_auc: 0.7804 - val_f1_score: 0.5004 - lr: 0.0016\n",
            "Epoch 6/100\n",
            "129/129 [==============================] - 48s 372ms/step - loss: 1.0375 - accuracy: 0.7483 - precision: 0.4943 - recall: 0.2975 - auc: 0.7778 - f1_score: 0.2989 - val_loss: 1.0349 - val_accuracy: 0.7500 - val_precision: 0.0000e+00 - val_recall: 0.0000e+00 - val_auc: 0.7804 - val_f1_score: 0.0000e+00 - lr: 0.0010\n",
            "Epoch 7/100\n",
            "129/129 [==============================] - 48s 373ms/step - loss: 1.0373 - accuracy: 0.7496 - precision: 0.4694 - recall: 0.0112 - auc: 0.7778 - f1_score: 0.0111 - val_loss: 1.0343 - val_accuracy: 0.7502 - val_precision: 0.5005 - val_recall: 0.5005 - val_auc: 0.7804 - val_f1_score: 0.5005 - lr: 6.3096e-04\n",
            "Epoch 8/100\n",
            "129/129 [==============================] - 48s 371ms/step - loss: 1.0374 - accuracy: 0.7466 - precision: 0.4891 - recall: 0.3055 - auc: 0.7767 - f1_score: 0.3033 - val_loss: 1.0343 - val_accuracy: 0.7500 - val_precision: 0.0000e+00 - val_recall: 0.0000e+00 - val_auc: 0.7804 - val_f1_score: 0.0000e+00 - lr: 3.9811e-04\n",
            "Epoch 9/100\n",
            "129/129 [==============================] - 49s 383ms/step - loss: 1.0367 - accuracy: 0.7501 - precision: 0.5024 - recall: 0.0512 - auc: 0.7780 - f1_score: 0.0545 - val_loss: 1.0343 - val_accuracy: 0.7502 - val_precision: 0.5005 - val_recall: 0.5005 - val_auc: 0.7804 - val_f1_score: 0.5005 - lr: 2.5119e-04\n",
            "Epoch 10/100\n",
            "129/129 [==============================] - 48s 372ms/step - loss: 1.0366 - accuracy: 0.7487 - precision: 0.4972 - recall: 0.4817 - auc: 0.7778 - f1_score: 0.4855 - val_loss: 1.0342 - val_accuracy: 0.7502 - val_precision: 0.5005 - val_recall: 0.5005 - val_auc: 0.7804 - val_f1_score: 0.5005 - lr: 1.5849e-04\n",
            "Epoch 11/100\n",
            "129/129 [==============================] - 48s 373ms/step - loss: 1.0365 - accuracy: 0.7499 - precision: 0.4998 - recall: 0.4998 - auc: 0.7784 - f1_score: 0.4998 - val_loss: 1.0341 - val_accuracy: 0.7502 - val_precision: 0.5005 - val_recall: 0.5005 - val_auc: 0.7804 - val_f1_score: 0.5006 - lr: 1.0000e-04\n",
            "Epoch 12/100\n",
            "129/129 [==============================] - 48s 371ms/step - loss: 1.0365 - accuracy: 0.7499 - precision: 0.4998 - recall: 0.4998 - auc: 0.7776 - f1_score: 0.5034 - val_loss: 1.0342 - val_accuracy: 0.7502 - val_precision: 0.5005 - val_recall: 0.5005 - val_auc: 0.7804 - val_f1_score: 0.5006 - lr: 6.3096e-05\n",
            "Epoch 13/100\n",
            "129/129 [==============================] - 48s 372ms/step - loss: 1.0365 - accuracy: 0.7499 - precision: 0.4998 - recall: 0.4998 - auc: 0.7780 - f1_score: 0.5034 - val_loss: 1.0342 - val_accuracy: 0.7502 - val_precision: 0.5005 - val_recall: 0.5005 - val_auc: 0.7804 - val_f1_score: 0.5003 - lr: 3.9811e-05\n",
            "Epoch 14/100\n",
            "129/129 [==============================] - 48s 372ms/step - loss: 1.0364 - accuracy: 0.7499 - precision: 0.4998 - recall: 0.4998 - auc: 0.7796 - f1_score: 0.4998 - val_loss: 1.0342 - val_accuracy: 0.7502 - val_precision: 0.5005 - val_recall: 0.5005 - val_auc: 0.7804 - val_f1_score: 0.5005 - lr: 2.5119e-05\n",
            "Epoch 15/100\n",
            "129/129 [==============================] - 50s 387ms/step - loss: 1.0364 - accuracy: 0.7499 - precision: 0.4998 - recall: 0.4998 - auc: 0.7797 - f1_score: 0.4998 - val_loss: 1.0342 - val_accuracy: 0.7502 - val_precision: 0.5005 - val_recall: 0.5005 - val_auc: 0.7804 - val_f1_score: 0.5004 - lr: 1.5849e-05\n",
            "Epoch 16/100\n",
            "129/129 [==============================] - 48s 373ms/step - loss: 1.0364 - accuracy: 0.7499 - precision: 0.4998 - recall: 0.4998 - auc: 0.7797 - f1_score: 0.4998 - val_loss: 1.0342 - val_accuracy: 0.7502 - val_precision: 0.5005 - val_recall: 0.5005 - val_auc: 0.7804 - val_f1_score: 0.5005 - lr: 1.0000e-05\n",
            "Epoch 17/100\n",
            "129/129 [==============================] - 48s 374ms/step - loss: 1.0364 - accuracy: 0.7499 - precision: 0.4998 - recall: 0.4998 - auc: 0.7797 - f1_score: 0.5034 - val_loss: 1.0342 - val_accuracy: 0.7502 - val_precision: 0.5005 - val_recall: 0.5005 - val_auc: 0.7804 - val_f1_score: 0.5006 - lr: 6.3096e-06\n",
            "Epoch 18/100\n",
            "129/129 [==============================] - 48s 372ms/step - loss: 1.0364 - accuracy: 0.7499 - precision: 0.4998 - recall: 0.4998 - auc: 0.7797 - f1_score: 0.4998 - val_loss: 1.0342 - val_accuracy: 0.7502 - val_precision: 0.5005 - val_recall: 0.5005 - val_auc: 0.7804 - val_f1_score: 0.5005 - lr: 3.9811e-06\n",
            "Epoch 19/100\n",
            "129/129 [==============================] - 48s 373ms/step - loss: 1.0364 - accuracy: 0.7499 - precision: 0.4998 - recall: 0.4998 - auc: 0.7797 - f1_score: 0.4998 - val_loss: 1.0342 - val_accuracy: 0.7502 - val_precision: 0.5005 - val_recall: 0.5005 - val_auc: 0.7804 - val_f1_score: 0.5004 - lr: 2.5119e-06\n",
            "Epoch 20/100\n",
            "129/129 [==============================] - 48s 372ms/step - loss: 1.0364 - accuracy: 0.7499 - precision: 0.4998 - recall: 0.4998 - auc: 0.7797 - f1_score: 0.4998 - val_loss: 1.0342 - val_accuracy: 0.7502 - val_precision: 0.5005 - val_recall: 0.5005 - val_auc: 0.7804 - val_f1_score: 0.5005 - lr: 1.5849e-06\n",
            "Epoch 21/100\n",
            "129/129 [==============================] - 50s 385ms/step - loss: 1.0364 - accuracy: 0.7499 - precision: 0.4998 - recall: 0.4998 - auc: 0.7797 - f1_score: 0.4998 - val_loss: 1.0342 - val_accuracy: 0.7502 - val_precision: 0.5005 - val_recall: 0.5005 - val_auc: 0.7804 - val_f1_score: 0.5005 - lr: 1.0000e-06\n",
            "Epoch 22/100\n",
            "129/129 [==============================] - 47s 365ms/step - loss: 1.0364 - accuracy: 0.7499 - precision: 0.4998 - recall: 0.4998 - auc: 0.7797 - f1_score: 0.4998 - val_loss: 1.0342 - val_accuracy: 0.7502 - val_precision: 0.5005 - val_recall: 0.5005 - val_auc: 0.7804 - val_f1_score: 0.5004 - lr: 6.3096e-07\n",
            "Epoch 23/100\n",
            "129/129 [==============================] - 46s 355ms/step - loss: 1.0364 - accuracy: 0.7499 - precision: 0.4998 - recall: 0.4998 - auc: 0.7797 - f1_score: 0.5034 - val_loss: 1.0342 - val_accuracy: 0.7502 - val_precision: 0.5005 - val_recall: 0.5005 - val_auc: 0.7804 - val_f1_score: 0.5005 - lr: 3.9811e-07\n",
            "Epoch 24/100\n",
            "129/129 [==============================] - 46s 356ms/step - loss: 1.0364 - accuracy: 0.7499 - precision: 0.4998 - recall: 0.4998 - auc: 0.7797 - f1_score: 0.4998 - val_loss: 1.0342 - val_accuracy: 0.7502 - val_precision: 0.5005 - val_recall: 0.5005 - val_auc: 0.7804 - val_f1_score: 0.5005 - lr: 2.5119e-07\n",
            "Epoch 25/100\n",
            "129/129 [==============================] - 46s 358ms/step - loss: 1.0364 - accuracy: 0.7499 - precision: 0.4998 - recall: 0.4998 - auc: 0.7797 - f1_score: 0.4961 - val_loss: 1.0342 - val_accuracy: 0.7502 - val_precision: 0.5005 - val_recall: 0.5005 - val_auc: 0.7804 - val_f1_score: 0.5003 - lr: 1.5849e-07\n",
            "Epoch 26/100\n",
            "129/129 [==============================] - 46s 357ms/step - loss: 1.0364 - accuracy: 0.7499 - precision: 0.4998 - recall: 0.4998 - auc: 0.7797 - f1_score: 0.4998 - val_loss: 1.0342 - val_accuracy: 0.7502 - val_precision: 0.5005 - val_recall: 0.5005 - val_auc: 0.7804 - val_f1_score: 0.5005 - lr: 1.0000e-07\n",
            "Epoch 27/100\n",
            "129/129 [==============================] - 46s 357ms/step - loss: 1.0364 - accuracy: 0.7499 - precision: 0.4998 - recall: 0.4998 - auc: 0.7797 - f1_score: 0.5034 - val_loss: 1.0342 - val_accuracy: 0.7502 - val_precision: 0.5005 - val_recall: 0.5005 - val_auc: 0.7804 - val_f1_score: 0.5004 - lr: 6.3096e-08\n",
            "Epoch 28/100\n",
            "129/129 [==============================] - 48s 369ms/step - loss: 1.0364 - accuracy: 0.7499 - precision: 0.4998 - recall: 0.4998 - auc: 0.7797 - f1_score: 0.4961 - val_loss: 1.0342 - val_accuracy: 0.7502 - val_precision: 0.5005 - val_recall: 0.5005 - val_auc: 0.7804 - val_f1_score: 0.5004 - lr: 3.9811e-08\n",
            "Epoch 29/100\n",
            "129/129 [==============================] - 47s 364ms/step - loss: 1.0364 - accuracy: 0.7499 - precision: 0.4998 - recall: 0.4998 - auc: 0.7797 - f1_score: 0.4961 - val_loss: 1.0342 - val_accuracy: 0.7502 - val_precision: 0.5005 - val_recall: 0.5005 - val_auc: 0.7804 - val_f1_score: 0.5003 - lr: 2.5119e-08\n",
            "Epoch 30/100\n",
            "129/129 [==============================] - 47s 361ms/step - loss: 1.0364 - accuracy: 0.7499 - precision: 0.4998 - recall: 0.4998 - auc: 0.7797 - f1_score: 0.4998 - val_loss: 1.0342 - val_accuracy: 0.7502 - val_precision: 0.5005 - val_recall: 0.5005 - val_auc: 0.7804 - val_f1_score: 0.5005 - lr: 1.5849e-08\n",
            "Epoch 31/100\n",
            "129/129 [==============================] - 46s 359ms/step - loss: 1.0364 - accuracy: 0.7499 - precision: 0.4998 - recall: 0.4998 - auc: 0.7797 - f1_score: 0.4998 - val_loss: 1.0342 - val_accuracy: 0.7502 - val_precision: 0.5005 - val_recall: 0.5005 - val_auc: 0.7804 - val_f1_score: 0.5004 - lr: 1.0000e-08\n",
            "Epoch 32/100\n",
            "129/129 [==============================] - 47s 360ms/step - loss: 1.0364 - accuracy: 0.7499 - precision: 0.4998 - recall: 0.4998 - auc: 0.7797 - f1_score: 0.4998 - val_loss: 1.0342 - val_accuracy: 0.7502 - val_precision: 0.5005 - val_recall: 0.5005 - val_auc: 0.7804 - val_f1_score: 0.5005 - lr: 6.3096e-09\n",
            "Epoch 33/100\n",
            "129/129 [==============================] - 46s 359ms/step - loss: 1.0364 - accuracy: 0.7499 - precision: 0.4998 - recall: 0.4998 - auc: 0.7797 - f1_score: 0.4998 - val_loss: 1.0342 - val_accuracy: 0.7502 - val_precision: 0.5005 - val_recall: 0.5005 - val_auc: 0.7804 - val_f1_score: 0.5005 - lr: 3.9811e-09\n",
            "Epoch 34/100\n",
            "129/129 [==============================] - 48s 369ms/step - loss: 1.0364 - accuracy: 0.7499 - precision: 0.4998 - recall: 0.4998 - auc: 0.7797 - f1_score: 0.5034 - val_loss: 1.0342 - val_accuracy: 0.7502 - val_precision: 0.5005 - val_recall: 0.5005 - val_auc: 0.7804 - val_f1_score: 0.5004 - lr: 2.5119e-09\n",
            "Epoch 35/100\n",
            "129/129 [==============================] - 46s 360ms/step - loss: 1.0364 - accuracy: 0.7499 - precision: 0.4998 - recall: 0.4998 - auc: 0.7797 - f1_score: 0.4998 - val_loss: 1.0342 - val_accuracy: 0.7502 - val_precision: 0.5005 - val_recall: 0.5005 - val_auc: 0.7804 - val_f1_score: 0.5005 - lr: 1.5849e-09\n",
            "Epoch 36/100\n",
            "129/129 [==============================] - 47s 361ms/step - loss: 1.0364 - accuracy: 0.7499 - precision: 0.4998 - recall: 0.4998 - auc: 0.7797 - f1_score: 0.4998 - val_loss: 1.0342 - val_accuracy: 0.7502 - val_precision: 0.5005 - val_recall: 0.5005 - val_auc: 0.7804 - val_f1_score: 0.5003 - lr: 1.0000e-09\n",
            "Epoch 37/100\n",
            "129/129 [==============================] - 47s 360ms/step - loss: 1.0364 - accuracy: 0.7499 - precision: 0.4998 - recall: 0.4998 - auc: 0.7797 - f1_score: 0.4998 - val_loss: 1.0342 - val_accuracy: 0.7502 - val_precision: 0.5005 - val_recall: 0.5005 - val_auc: 0.7804 - val_f1_score: 0.5005 - lr: 6.3096e-10\n",
            "Epoch 38/100\n",
            "129/129 [==============================] - 46s 358ms/step - loss: 1.0364 - accuracy: 0.7499 - precision: 0.4998 - recall: 0.4998 - auc: 0.7797 - f1_score: 0.5034 - val_loss: 1.0342 - val_accuracy: 0.7502 - val_precision: 0.5005 - val_recall: 0.5005 - val_auc: 0.7804 - val_f1_score: 0.5005 - lr: 3.9811e-10\n",
            "Epoch 39/100\n",
            "129/129 [==============================] - 46s 356ms/step - loss: 1.0364 - accuracy: 0.7499 - precision: 0.4998 - recall: 0.4998 - auc: 0.7797 - f1_score: 0.4961 - val_loss: 1.0342 - val_accuracy: 0.7502 - val_precision: 0.5005 - val_recall: 0.5005 - val_auc: 0.7804 - val_f1_score: 0.5004 - lr: 2.5119e-10\n",
            "Epoch 40/100\n",
            "129/129 [==============================] - 48s 371ms/step - loss: 1.0364 - accuracy: 0.7499 - precision: 0.4998 - recall: 0.4998 - auc: 0.7797 - f1_score: 0.4961 - val_loss: 1.0342 - val_accuracy: 0.7502 - val_precision: 0.5005 - val_recall: 0.5005 - val_auc: 0.7804 - val_f1_score: 0.5005 - lr: 1.5849e-10\n",
            "Epoch 41/100\n",
            "129/129 [==============================] - 46s 358ms/step - loss: 1.0364 - accuracy: 0.7499 - precision: 0.4998 - recall: 0.4998 - auc: 0.7797 - f1_score: 0.4998 - val_loss: 1.0342 - val_accuracy: 0.7502 - val_precision: 0.5005 - val_recall: 0.5005 - val_auc: 0.7804 - val_f1_score: 0.5005 - lr: 1.0000e-10\n",
            "Epoch 42/100\n",
            "129/129 [==============================] - 46s 359ms/step - loss: 1.0364 - accuracy: 0.7499 - precision: 0.4998 - recall: 0.4998 - auc: 0.7797 - f1_score: 0.4998 - val_loss: 1.0342 - val_accuracy: 0.7502 - val_precision: 0.5005 - val_recall: 0.5005 - val_auc: 0.7804 - val_f1_score: 0.5003 - lr: 6.3096e-11\n",
            "Epoch 43/100\n",
            "129/129 [==============================] - 46s 353ms/step - loss: 1.0364 - accuracy: 0.7499 - precision: 0.4998 - recall: 0.4998 - auc: 0.7797 - f1_score: 0.4998 - val_loss: 1.0342 - val_accuracy: 0.7502 - val_precision: 0.5005 - val_recall: 0.5005 - val_auc: 0.7804 - val_f1_score: 0.5005 - lr: 3.9811e-11\n",
            "Epoch 44/100\n",
            "129/129 [==============================] - 46s 354ms/step - loss: 1.0364 - accuracy: 0.7499 - precision: 0.4998 - recall: 0.4998 - auc: 0.7797 - f1_score: 0.4998 - val_loss: 1.0342 - val_accuracy: 0.7502 - val_precision: 0.5005 - val_recall: 0.5005 - val_auc: 0.7804 - val_f1_score: 0.5005 - lr: 2.5119e-11\n",
            "Epoch 45/100\n",
            "129/129 [==============================] - 46s 357ms/step - loss: 1.0364 - accuracy: 0.7499 - precision: 0.4998 - recall: 0.4998 - auc: 0.7797 - f1_score: 0.4961 - val_loss: 1.0342 - val_accuracy: 0.7502 - val_precision: 0.5005 - val_recall: 0.5005 - val_auc: 0.7804 - val_f1_score: 0.5003 - lr: 1.5849e-11\n",
            "Epoch 46/100\n",
            "129/129 [==============================] - 46s 354ms/step - loss: 1.0364 - accuracy: 0.7499 - precision: 0.4998 - recall: 0.4998 - auc: 0.7797 - f1_score: 0.4961 - val_loss: 1.0342 - val_accuracy: 0.7502 - val_precision: 0.5005 - val_recall: 0.5005 - val_auc: 0.7804 - val_f1_score: 0.5004 - lr: 1.0000e-11\n",
            "Epoch 47/100\n",
            "129/129 [==============================] - 47s 367ms/step - loss: 1.0364 - accuracy: 0.7499 - precision: 0.4998 - recall: 0.4998 - auc: 0.7797 - f1_score: 0.4998 - val_loss: 1.0342 - val_accuracy: 0.7502 - val_precision: 0.5005 - val_recall: 0.5005 - val_auc: 0.7804 - val_f1_score: 0.5004 - lr: 6.3096e-12\n",
            "Epoch 48/100\n",
            "129/129 [==============================] - 46s 356ms/step - loss: 1.0364 - accuracy: 0.7499 - precision: 0.4998 - recall: 0.4998 - auc: 0.7797 - f1_score: 0.5034 - val_loss: 1.0342 - val_accuracy: 0.7502 - val_precision: 0.5005 - val_recall: 0.5005 - val_auc: 0.7804 - val_f1_score: 0.5005 - lr: 3.9811e-12\n",
            "Epoch 49/100\n",
            "129/129 [==============================] - 46s 357ms/step - loss: 1.0364 - accuracy: 0.7499 - precision: 0.4998 - recall: 0.4998 - auc: 0.7797 - f1_score: 0.4998 - val_loss: 1.0342 - val_accuracy: 0.7502 - val_precision: 0.5005 - val_recall: 0.5005 - val_auc: 0.7804 - val_f1_score: 0.5004 - lr: 2.5119e-12\n",
            "Epoch 50/100\n",
            "129/129 [==============================] - 46s 354ms/step - loss: 1.0364 - accuracy: 0.7499 - precision: 0.4998 - recall: 0.4998 - auc: 0.7797 - f1_score: 0.5034 - val_loss: 1.0342 - val_accuracy: 0.7502 - val_precision: 0.5005 - val_recall: 0.5005 - val_auc: 0.7804 - val_f1_score: 0.5004 - lr: 1.5849e-12\n",
            "Epoch 51/100\n",
            "129/129 [==============================] - 46s 354ms/step - loss: 1.0364 - accuracy: 0.7499 - precision: 0.4998 - recall: 0.4998 - auc: 0.7797 - f1_score: 0.4998 - val_loss: 1.0342 - val_accuracy: 0.7502 - val_precision: 0.5005 - val_recall: 0.5005 - val_auc: 0.7804 - val_f1_score: 0.5005 - lr: 1.0000e-12\n",
            "Epoch 52/100\n",
            "129/129 [==============================] - 46s 354ms/step - loss: 1.0364 - accuracy: 0.7499 - precision: 0.4998 - recall: 0.4998 - auc: 0.7797 - f1_score: 0.5034 - val_loss: 1.0342 - val_accuracy: 0.7502 - val_precision: 0.5005 - val_recall: 0.5005 - val_auc: 0.7804 - val_f1_score: 0.5005 - lr: 6.3096e-13\n",
            "Epoch 53/100\n",
            "129/129 [==============================] - 46s 353ms/step - loss: 1.0364 - accuracy: 0.7499 - precision: 0.4998 - recall: 0.4998 - auc: 0.7797 - f1_score: 0.4998 - val_loss: 1.0342 - val_accuracy: 0.7502 - val_precision: 0.5005 - val_recall: 0.5005 - val_auc: 0.7804 - val_f1_score: 0.5006 - lr: 3.9811e-13\n",
            "Epoch 54/100\n",
            "129/129 [==============================] - 47s 366ms/step - loss: 1.0364 - accuracy: 0.7499 - precision: 0.4998 - recall: 0.4998 - auc: 0.7797 - f1_score: 0.4998 - val_loss: 1.0342 - val_accuracy: 0.7502 - val_precision: 0.5005 - val_recall: 0.5005 - val_auc: 0.7804 - val_f1_score: 0.5006 - lr: 2.5119e-13\n",
            "Epoch 55/100\n",
            "129/129 [==============================] - 46s 354ms/step - loss: 1.0364 - accuracy: 0.7499 - precision: 0.4998 - recall: 0.4998 - auc: 0.7797 - f1_score: 0.5034 - val_loss: 1.0342 - val_accuracy: 0.7502 - val_precision: 0.5005 - val_recall: 0.5005 - val_auc: 0.7804 - val_f1_score: 0.5004 - lr: 1.5849e-13\n",
            "Epoch 56/100\n",
            "129/129 [==============================] - 46s 356ms/step - loss: 1.0364 - accuracy: 0.7499 - precision: 0.4998 - recall: 0.4998 - auc: 0.7797 - f1_score: 0.4961 - val_loss: 1.0342 - val_accuracy: 0.7502 - val_precision: 0.5005 - val_recall: 0.5005 - val_auc: 0.7804 - val_f1_score: 0.5004 - lr: 1.0000e-13\n",
            "Epoch 57/100\n",
            "129/129 [==============================] - 46s 355ms/step - loss: 1.0364 - accuracy: 0.7499 - precision: 0.4998 - recall: 0.4998 - auc: 0.7797 - f1_score: 0.4998 - val_loss: 1.0342 - val_accuracy: 0.7502 - val_precision: 0.5005 - val_recall: 0.5005 - val_auc: 0.7804 - val_f1_score: 0.5004 - lr: 6.3096e-14\n",
            "Epoch 58/100\n",
            "129/129 [==============================] - 46s 354ms/step - loss: 1.0364 - accuracy: 0.7499 - precision: 0.4998 - recall: 0.4998 - auc: 0.7797 - f1_score: 0.4961 - val_loss: 1.0342 - val_accuracy: 0.7502 - val_precision: 0.5005 - val_recall: 0.5005 - val_auc: 0.7804 - val_f1_score: 0.5004 - lr: 3.9811e-14\n",
            "Epoch 59/100\n",
            "129/129 [==============================] - 46s 353ms/step - loss: 1.0364 - accuracy: 0.7499 - precision: 0.4998 - recall: 0.4998 - auc: 0.7797 - f1_score: 0.4961 - val_loss: 1.0342 - val_accuracy: 0.7502 - val_precision: 0.5005 - val_recall: 0.5005 - val_auc: 0.7804 - val_f1_score: 0.5004 - lr: 2.5119e-14\n",
            "Epoch 60/100\n",
            "129/129 [==============================] - 46s 353ms/step - loss: 1.0364 - accuracy: 0.7499 - precision: 0.4998 - recall: 0.4998 - auc: 0.7797 - f1_score: 0.4998 - val_loss: 1.0342 - val_accuracy: 0.7502 - val_precision: 0.5005 - val_recall: 0.5005 - val_auc: 0.7804 - val_f1_score: 0.5004 - lr: 1.5849e-14\n",
            "Epoch 61/100\n",
            "129/129 [==============================] - 46s 353ms/step - loss: 1.0364 - accuracy: 0.7499 - precision: 0.4998 - recall: 0.4998 - auc: 0.7797 - f1_score: 0.5034 - val_loss: 1.0342 - val_accuracy: 0.7502 - val_precision: 0.5005 - val_recall: 0.5005 - val_auc: 0.7804 - val_f1_score: 0.5004 - lr: 1.0000e-14\n",
            "Epoch 62/100\n",
            "129/129 [==============================] - 47s 364ms/step - loss: 1.0364 - accuracy: 0.7499 - precision: 0.4998 - recall: 0.4998 - auc: 0.7797 - f1_score: 0.4961 - val_loss: 1.0342 - val_accuracy: 0.7502 - val_precision: 0.5005 - val_recall: 0.5005 - val_auc: 0.7804 - val_f1_score: 0.5004 - lr: 6.3096e-15\n",
            "Epoch 63/100\n",
            "129/129 [==============================] - 46s 354ms/step - loss: 1.0364 - accuracy: 0.7499 - precision: 0.4998 - recall: 0.4998 - auc: 0.7797 - f1_score: 0.4998 - val_loss: 1.0342 - val_accuracy: 0.7502 - val_precision: 0.5005 - val_recall: 0.5005 - val_auc: 0.7804 - val_f1_score: 0.5005 - lr: 3.9811e-15\n",
            "Epoch 64/100\n",
            "129/129 [==============================] - 46s 353ms/step - loss: 1.0364 - accuracy: 0.7499 - precision: 0.4998 - recall: 0.4998 - auc: 0.7797 - f1_score: 0.4961 - val_loss: 1.0342 - val_accuracy: 0.7502 - val_precision: 0.5005 - val_recall: 0.5005 - val_auc: 0.7804 - val_f1_score: 0.5005 - lr: 2.5119e-15\n",
            "Epoch 65/100\n",
            "129/129 [==============================] - 46s 354ms/step - loss: 1.0364 - accuracy: 0.7499 - precision: 0.4998 - recall: 0.4998 - auc: 0.7797 - f1_score: 0.4998 - val_loss: 1.0342 - val_accuracy: 0.7502 - val_precision: 0.5005 - val_recall: 0.5005 - val_auc: 0.7804 - val_f1_score: 0.5006 - lr: 1.5849e-15\n",
            "Epoch 66/100\n",
            "129/129 [==============================] - 45s 351ms/step - loss: 1.0364 - accuracy: 0.7499 - precision: 0.4998 - recall: 0.4998 - auc: 0.7797 - f1_score: 0.5034 - val_loss: 1.0342 - val_accuracy: 0.7502 - val_precision: 0.5005 - val_recall: 0.5005 - val_auc: 0.7804 - val_f1_score: 0.5005 - lr: 1.0000e-15\n",
            "Epoch 67/100\n",
            "129/129 [==============================] - 46s 353ms/step - loss: 1.0364 - accuracy: 0.7499 - precision: 0.4998 - recall: 0.4998 - auc: 0.7797 - f1_score: 0.4961 - val_loss: 1.0342 - val_accuracy: 0.7502 - val_precision: 0.5005 - val_recall: 0.5005 - val_auc: 0.7804 - val_f1_score: 0.5003 - lr: 6.3096e-16\n",
            "Epoch 68/100\n",
            "129/129 [==============================] - 46s 353ms/step - loss: 1.0364 - accuracy: 0.7499 - precision: 0.4998 - recall: 0.4998 - auc: 0.7797 - f1_score: 0.4961 - val_loss: 1.0342 - val_accuracy: 0.7502 - val_precision: 0.5005 - val_recall: 0.5005 - val_auc: 0.7804 - val_f1_score: 0.5005 - lr: 3.9811e-16\n",
            "Epoch 69/100\n",
            "129/129 [==============================] - 49s 381ms/step - loss: 1.0364 - accuracy: 0.7499 - precision: 0.4998 - recall: 0.4998 - auc: 0.7797 - f1_score: 0.4998 - val_loss: 1.0342 - val_accuracy: 0.7502 - val_precision: 0.5005 - val_recall: 0.5005 - val_auc: 0.7804 - val_f1_score: 0.5005 - lr: 2.5119e-16\n",
            "Epoch 70/100\n",
            "129/129 [==============================] - 47s 361ms/step - loss: 1.0364 - accuracy: 0.7499 - precision: 0.4998 - recall: 0.4998 - auc: 0.7797 - f1_score: 0.4961 - val_loss: 1.0342 - val_accuracy: 0.7502 - val_precision: 0.5005 - val_recall: 0.5005 - val_auc: 0.7804 - val_f1_score: 0.5003 - lr: 1.5849e-16\n",
            "Epoch 71/100\n",
            "129/129 [==============================] - 46s 360ms/step - loss: 1.0364 - accuracy: 0.7499 - precision: 0.4998 - recall: 0.4998 - auc: 0.7797 - f1_score: 0.4998 - val_loss: 1.0342 - val_accuracy: 0.7502 - val_precision: 0.5005 - val_recall: 0.5005 - val_auc: 0.7804 - val_f1_score: 0.5005 - lr: 1.0000e-16\n",
            "Epoch 72/100\n",
            "129/129 [==============================] - 46s 358ms/step - loss: 1.0364 - accuracy: 0.7499 - precision: 0.4998 - recall: 0.4998 - auc: 0.7797 - f1_score: 0.4961 - val_loss: 1.0342 - val_accuracy: 0.7502 - val_precision: 0.5005 - val_recall: 0.5005 - val_auc: 0.7804 - val_f1_score: 0.5006 - lr: 6.3096e-17\n",
            "Epoch 73/100\n",
            "129/129 [==============================] - 47s 361ms/step - loss: 1.0364 - accuracy: 0.7499 - precision: 0.4998 - recall: 0.4998 - auc: 0.7797 - f1_score: 0.4998 - val_loss: 1.0342 - val_accuracy: 0.7502 - val_precision: 0.5005 - val_recall: 0.5005 - val_auc: 0.7804 - val_f1_score: 0.5005 - lr: 3.9811e-17\n",
            "Epoch 74/100\n",
            "129/129 [==============================] - 46s 358ms/step - loss: 1.0364 - accuracy: 0.7499 - precision: 0.4998 - recall: 0.4998 - auc: 0.7797 - f1_score: 0.4961 - val_loss: 1.0342 - val_accuracy: 0.7502 - val_precision: 0.5005 - val_recall: 0.5005 - val_auc: 0.7804 - val_f1_score: 0.5005 - lr: 2.5119e-17\n",
            "Epoch 75/100\n",
            "129/129 [==============================] - 46s 360ms/step - loss: 1.0364 - accuracy: 0.7499 - precision: 0.4998 - recall: 0.4998 - auc: 0.7797 - f1_score: 0.5034 - val_loss: 1.0342 - val_accuracy: 0.7502 - val_precision: 0.5005 - val_recall: 0.5005 - val_auc: 0.7804 - val_f1_score: 0.5006 - lr: 1.5849e-17\n",
            "Epoch 76/100\n",
            "129/129 [==============================] - 48s 369ms/step - loss: 1.0364 - accuracy: 0.7499 - precision: 0.4998 - recall: 0.4998 - auc: 0.7797 - f1_score: 0.4961 - val_loss: 1.0342 - val_accuracy: 0.7502 - val_precision: 0.5005 - val_recall: 0.5005 - val_auc: 0.7804 - val_f1_score: 0.5004 - lr: 1.0000e-17\n",
            "Epoch 77/100\n",
            "129/129 [==============================] - 46s 359ms/step - loss: 1.0364 - accuracy: 0.7499 - precision: 0.4998 - recall: 0.4998 - auc: 0.7797 - f1_score: 0.5034 - val_loss: 1.0342 - val_accuracy: 0.7502 - val_precision: 0.5005 - val_recall: 0.5005 - val_auc: 0.7804 - val_f1_score: 0.5004 - lr: 6.3096e-18\n",
            "Epoch 78/100\n",
            "129/129 [==============================] - 47s 362ms/step - loss: 1.0364 - accuracy: 0.7499 - precision: 0.4998 - recall: 0.4998 - auc: 0.7797 - f1_score: 0.4961 - val_loss: 1.0342 - val_accuracy: 0.7502 - val_precision: 0.5005 - val_recall: 0.5005 - val_auc: 0.7804 - val_f1_score: 0.5006 - lr: 3.9811e-18\n",
            "Epoch 79/100\n",
            "129/129 [==============================] - 47s 360ms/step - loss: 1.0364 - accuracy: 0.7499 - precision: 0.4998 - recall: 0.4998 - auc: 0.7797 - f1_score: 0.5034 - val_loss: 1.0342 - val_accuracy: 0.7502 - val_precision: 0.5005 - val_recall: 0.5005 - val_auc: 0.7804 - val_f1_score: 0.5006 - lr: 2.5119e-18\n",
            "Epoch 80/100\n",
            "129/129 [==============================] - 46s 359ms/step - loss: 1.0364 - accuracy: 0.7499 - precision: 0.4998 - recall: 0.4998 - auc: 0.7797 - f1_score: 0.4998 - val_loss: 1.0342 - val_accuracy: 0.7502 - val_precision: 0.5005 - val_recall: 0.5005 - val_auc: 0.7804 - val_f1_score: 0.5004 - lr: 1.5849e-18\n",
            "Epoch 81/100\n",
            "129/129 [==============================] - 47s 361ms/step - loss: 1.0364 - accuracy: 0.7499 - precision: 0.4998 - recall: 0.4998 - auc: 0.7797 - f1_score: 0.4961 - val_loss: 1.0342 - val_accuracy: 0.7502 - val_precision: 0.5005 - val_recall: 0.5005 - val_auc: 0.7804 - val_f1_score: 0.5005 - lr: 1.0000e-18\n",
            "Epoch 82/100\n",
            "129/129 [==============================] - 47s 362ms/step - loss: 1.0364 - accuracy: 0.7499 - precision: 0.4998 - recall: 0.4998 - auc: 0.7797 - f1_score: 0.4961 - val_loss: 1.0342 - val_accuracy: 0.7502 - val_precision: 0.5005 - val_recall: 0.5005 - val_auc: 0.7804 - val_f1_score: 0.5005 - lr: 6.3096e-19\n",
            "Epoch 83/100\n",
            "129/129 [==============================] - 47s 361ms/step - loss: 1.0364 - accuracy: 0.7499 - precision: 0.4998 - recall: 0.4998 - auc: 0.7797 - f1_score: 0.4961 - val_loss: 1.0342 - val_accuracy: 0.7502 - val_precision: 0.5005 - val_recall: 0.5005 - val_auc: 0.7804 - val_f1_score: 0.5005 - lr: 3.9811e-19\n",
            "Epoch 84/100\n",
            "129/129 [==============================] - 47s 367ms/step - loss: 1.0364 - accuracy: 0.7499 - precision: 0.4998 - recall: 0.4998 - auc: 0.7797 - f1_score: 0.4998 - val_loss: 1.0342 - val_accuracy: 0.7502 - val_precision: 0.5005 - val_recall: 0.5005 - val_auc: 0.7804 - val_f1_score: 0.5005 - lr: 2.5119e-19\n",
            "Epoch 85/100\n",
            "129/129 [==============================] - 46s 356ms/step - loss: 1.0364 - accuracy: 0.7499 - precision: 0.4998 - recall: 0.4998 - auc: 0.7797 - f1_score: 0.4998 - val_loss: 1.0342 - val_accuracy: 0.7502 - val_precision: 0.5005 - val_recall: 0.5005 - val_auc: 0.7804 - val_f1_score: 0.5004 - lr: 1.5849e-19\n",
            "Epoch 86/100\n",
            "129/129 [==============================] - 46s 356ms/step - loss: 1.0364 - accuracy: 0.7499 - precision: 0.4998 - recall: 0.4998 - auc: 0.7797 - f1_score: 0.4998 - val_loss: 1.0342 - val_accuracy: 0.7502 - val_precision: 0.5005 - val_recall: 0.5005 - val_auc: 0.7804 - val_f1_score: 0.5005 - lr: 1.0000e-19\n",
            "Epoch 87/100\n",
            "129/129 [==============================] - 46s 357ms/step - loss: 1.0364 - accuracy: 0.7499 - precision: 0.4998 - recall: 0.4998 - auc: 0.7797 - f1_score: 0.5034 - val_loss: 1.0342 - val_accuracy: 0.7502 - val_precision: 0.5005 - val_recall: 0.5005 - val_auc: 0.7804 - val_f1_score: 0.5004 - lr: 6.3096e-20\n",
            "Epoch 88/100\n",
            "129/129 [==============================] - 46s 357ms/step - loss: 1.0364 - accuracy: 0.7499 - precision: 0.4998 - recall: 0.4998 - auc: 0.7797 - f1_score: 0.4961 - val_loss: 1.0342 - val_accuracy: 0.7502 - val_precision: 0.5005 - val_recall: 0.5005 - val_auc: 0.7804 - val_f1_score: 0.5005 - lr: 3.9811e-20\n",
            "Epoch 89/100\n",
            "129/129 [==============================] - 46s 360ms/step - loss: 1.0364 - accuracy: 0.7499 - precision: 0.4998 - recall: 0.4998 - auc: 0.7797 - f1_score: 0.5034 - val_loss: 1.0342 - val_accuracy: 0.7502 - val_precision: 0.5005 - val_recall: 0.5005 - val_auc: 0.7804 - val_f1_score: 0.5005 - lr: 2.5119e-20\n",
            "Epoch 90/100\n",
            "129/129 [==============================] - 47s 363ms/step - loss: 1.0364 - accuracy: 0.7499 - precision: 0.4998 - recall: 0.4998 - auc: 0.7797 - f1_score: 0.4998 - val_loss: 1.0342 - val_accuracy: 0.7502 - val_precision: 0.5005 - val_recall: 0.5005 - val_auc: 0.7804 - val_f1_score: 0.5005 - lr: 1.5849e-20\n",
            "Epoch 91/100\n",
            "129/129 [==============================] - 47s 360ms/step - loss: 1.0364 - accuracy: 0.7499 - precision: 0.4998 - recall: 0.4998 - auc: 0.7797 - f1_score: 0.5034 - val_loss: 1.0342 - val_accuracy: 0.7502 - val_precision: 0.5005 - val_recall: 0.5005 - val_auc: 0.7804 - val_f1_score: 0.5005 - lr: 1.0000e-20\n",
            "Epoch 92/100\n",
            "129/129 [==============================] - 46s 358ms/step - loss: 1.0364 - accuracy: 0.7499 - precision: 0.4998 - recall: 0.4998 - auc: 0.7797 - f1_score: 0.5034 - val_loss: 1.0342 - val_accuracy: 0.7502 - val_precision: 0.5005 - val_recall: 0.5005 - val_auc: 0.7804 - val_f1_score: 0.5006 - lr: 6.3096e-21\n",
            "Epoch 93/100\n",
            "129/129 [==============================] - 47s 361ms/step - loss: 1.0364 - accuracy: 0.7499 - precision: 0.4998 - recall: 0.4998 - auc: 0.7797 - f1_score: 0.4998 - val_loss: 1.0342 - val_accuracy: 0.7502 - val_precision: 0.5005 - val_recall: 0.5005 - val_auc: 0.7804 - val_f1_score: 0.5005 - lr: 3.9811e-21\n",
            "Epoch 94/100\n",
            "129/129 [==============================] - 47s 362ms/step - loss: 1.0364 - accuracy: 0.7499 - precision: 0.4998 - recall: 0.4998 - auc: 0.7797 - f1_score: 0.4961 - val_loss: 1.0342 - val_accuracy: 0.7502 - val_precision: 0.5005 - val_recall: 0.5005 - val_auc: 0.7804 - val_f1_score: 0.5005 - lr: 2.5119e-21\n",
            "Epoch 95/100\n",
            "129/129 [==============================] - 46s 358ms/step - loss: 1.0364 - accuracy: 0.7499 - precision: 0.4998 - recall: 0.4998 - auc: 0.7797 - f1_score: 0.5034 - val_loss: 1.0342 - val_accuracy: 0.7502 - val_precision: 0.5005 - val_recall: 0.5005 - val_auc: 0.7804 - val_f1_score: 0.5005 - lr: 1.5849e-21\n",
            "Epoch 96/100\n",
            "129/129 [==============================] - 46s 358ms/step - loss: 1.0364 - accuracy: 0.7499 - precision: 0.4998 - recall: 0.4998 - auc: 0.7797 - f1_score: 0.4998 - val_loss: 1.0342 - val_accuracy: 0.7502 - val_precision: 0.5005 - val_recall: 0.5005 - val_auc: 0.7804 - val_f1_score: 0.5004 - lr: 1.0000e-21\n",
            "Epoch 97/100\n",
            "129/129 [==============================] - 48s 371ms/step - loss: 1.0364 - accuracy: 0.7499 - precision: 0.4998 - recall: 0.4998 - auc: 0.7797 - f1_score: 0.4961 - val_loss: 1.0342 - val_accuracy: 0.7502 - val_precision: 0.5005 - val_recall: 0.5005 - val_auc: 0.7804 - val_f1_score: 0.5004 - lr: 6.3096e-22\n",
            "Epoch 98/100\n",
            "129/129 [==============================] - 47s 363ms/step - loss: 1.0364 - accuracy: 0.7499 - precision: 0.4998 - recall: 0.4998 - auc: 0.7797 - f1_score: 0.5034 - val_loss: 1.0342 - val_accuracy: 0.7502 - val_precision: 0.5005 - val_recall: 0.5005 - val_auc: 0.7804 - val_f1_score: 0.5005 - lr: 3.9811e-22\n",
            "Epoch 99/100\n",
            "129/129 [==============================] - 47s 360ms/step - loss: 1.0364 - accuracy: 0.7499 - precision: 0.4998 - recall: 0.4998 - auc: 0.7797 - f1_score: 0.4998 - val_loss: 1.0342 - val_accuracy: 0.7502 - val_precision: 0.5005 - val_recall: 0.5005 - val_auc: 0.7804 - val_f1_score: 0.5005 - lr: 2.5119e-22\n",
            "Epoch 100/100\n",
            "129/129 [==============================] - 46s 356ms/step - loss: 1.0364 - accuracy: 0.7499 - precision: 0.4998 - recall: 0.4998 - auc: 0.7797 - f1_score: 0.4961 - val_loss: 1.0342 - val_accuracy: 0.7502 - val_precision: 0.5005 - val_recall: 0.5005 - val_auc: 0.7804 - val_f1_score: 0.5007 - lr: 1.5849e-22\n"
          ]
        }
      ]
    },
    {
      "cell_type": "code",
      "source": [
        "def Train_Val_Plot(acc,val_acc,loss,val_loss,auc,val_auc,precision,val_precision,f1,val_f1):\n",
        "    \n",
        "    fig, (ax1, ax2,ax3,ax4,ax5) = plt.subplots(1,5, figsize= (20,5))\n",
        "    fig.suptitle(\" MODEL'S METRICS VISUALIZATION \")\n",
        "\n",
        "    ax1.plot(range(1, len(acc) + 1), acc)\n",
        "    ax1.plot(range(1, len(val_acc) + 1), val_acc)\n",
        "    ax1.set_title('History of Accuracy')\n",
        "    ax1.set_xlabel('Epochs')\n",
        "    ax1.set_ylabel('Accuracy')\n",
        "    ax1.legend(['training', 'validation'])\n",
        "\n",
        "\n",
        "    ax2.plot(range(1, len(loss) + 1), loss)\n",
        "    ax2.plot(range(1, len(val_loss) + 1), val_loss)\n",
        "    ax2.set_title('History of Loss')\n",
        "    ax2.set_xlabel('Epochs')\n",
        "    ax2.set_ylabel('Loss')\n",
        "    ax2.legend(['training', 'validation'])\n",
        "    \n",
        "    ax3.plot(range(1, len(auc) + 1), auc)\n",
        "    ax3.plot(range(1, len(val_auc) + 1), val_auc)\n",
        "    ax3.set_title('History of AUC')\n",
        "    ax3.set_xlabel('Epochs')\n",
        "    ax3.set_ylabel('AUC')\n",
        "    ax3.legend(['training', 'validation'])\n",
        "    \n",
        "    ax4.plot(range(1, len(precision) + 1), precision)\n",
        "    ax4.plot(range(1, len(val_precision) + 1), val_precision)\n",
        "    ax4.set_title('History of Precision')\n",
        "    ax4.set_xlabel('Epochs')\n",
        "    ax4.set_ylabel('Precision')\n",
        "    ax4.legend(['training', 'validation'])\n",
        "    \n",
        "    ax5.plot(range(1, len(f1) + 1), f1)\n",
        "    ax5.plot(range(1, len(val_f1) + 1), val_f1)\n",
        "    ax5.set_title('History of F1-score')\n",
        "    ax5.set_xlabel('Epochs')\n",
        "    ax5.set_ylabel('F1 score')\n",
        "    ax5.legend(['training', 'validation'])\n",
        "\n",
        "\n",
        "    plt.show()\n",
        "    \n",
        "\n",
        "Train_Val_Plot(history.history['accuracy'],history.history['val_accuracy'],\n",
        "               history.history['loss'],history.history['val_loss'],\n",
        "               history.history['auc'],history.history['val_auc'],\n",
        "               history.history['precision'],history.history['val_precision'],\n",
        "               history.history['f1_score'],history.history['val_f1_score']\n",
        "              )"
      ],
      "metadata": {
        "colab": {
          "base_uri": "https://localhost:8080/",
          "height": 250
        },
        "id": "ejNGieDTxG9k",
        "outputId": "75f7b886-89a5-41af-c5db-0b008903b50c"
      },
      "execution_count": null,
      "outputs": [
        {
          "output_type": "display_data",
          "data": {
            "text/plain": [
              "<Figure size 1440x360 with 5 Axes>"
            ],
            "image/png": "[encoded data removed]"
          },
          "metadata": {
            "needs_background": "light"
          }
        }
      ]
    },
    {
      "cell_type": "code",
      "source": [
        "scores = model.evaluate_generator(test_dataset)"
      ],
      "metadata": {
        "colab": {
          "base_uri": "https://localhost:8080/"
        },
        "id": "wSlTk6vWxIV4",
        "outputId": "dcdb9095-7ca4-42f2-838e-0f0dda21ebf5"
      },
      "execution_count": null,
      "outputs": [
        {
          "output_type": "stream",
          "name": "stderr",
          "text": [
            "<ipython-input-35-245a018ec215>:1: UserWarning: `Model.evaluate_generator` is deprecated and will be removed in a future version. Please use `Model.evaluate`, which supports generators.\n",
            "  scores = model.evaluate_generator(test_dataset)\n"
          ]
        }
      ]
    },
    {
      "cell_type": "code",
      "source": [
        "print(\"Accuracy = \", scores[1])\n",
        "print(\"Precision = \", scores[2])\n",
        "print(\"Recall = \", scores[3])\n",
        "print(\"AUC = \", scores[4])\n",
        "print(\"F1_score = \", scores[5])"
      ],
      "metadata": {
        "colab": {
          "base_uri": "https://localhost:8080/"
        },
        "id": "MRZDn33GxJMj",
        "outputId": "4b798398-5cdf-442e-b17c-07008a8eb7fa"
      },
      "execution_count": null,
      "outputs": [
        {
          "output_type": "stream",
          "name": "stdout",
          "text": [
            "Accuracy =  0.749951183795929\n",
            "Precision =  0.4999023675918579\n",
            "Recall =  0.4999023675918579\n",
            "AUC =  0.7798607349395752\n",
            "F1_score =  0.5029114484786987\n"
          ]
        }
      ]
    },
    {
      "cell_type": "markdown",
      "source": [
        "#Test2"
      ],
      "metadata": {
        "id": "jBeYuF6bfSvc"
      }
    },
    {
      "cell_type": "code",
      "source": [
        "import tensorflow as tf\n",
        "import numpy as np\n",
        "import matplotlib.pyplot as plt\n",
        "from sklearn.metrics import classification_report, confusion_matrix\n",
        "import seaborn as sn\n",
        "from tensorflow.keras import backend as K\n",
        "from tensorflow.keras.models import Sequential, Model, load_model\n",
        "from tensorflow.keras.layers import Dense, Flatten, Dropout, Activation, Conv2D, MaxPooling2D, LeakyReLU\n",
        "from tensorflow.keras.callbacks import TensorBoard\n",
        "import pickle\n",
        "from PIL import Image\n",
        "import time\n",
        "import os\n",
        "from PIL import Image\n",
        "from tensorflow.keras.regularizers import l2\n",
        "from sklearn.model_selection import train_test_split\n",
        "\n",
        "try:\n",
        "    tpu = tf.distribute.cluster_resolver.TPUClusterResolver()\n",
        "    print('Device:', tpu.master())\n",
        "    tf.config.experimental_connect_to_cluster(tpu)\n",
        "    tf.tpu.experimental.initialize_tpu_system(tpu)\n",
        "    strategy = tf.distribute.experimental.TPUStrategy(tpu)\n",
        "except:\n",
        "    strategy = tf.distribute.get_strategy()"
      ],
      "metadata": {
        "id": "w8pNs9D3fVPV"
      },
      "execution_count": 9,
      "outputs": []
    },
    {
      "cell_type": "code",
      "source": [
        "IMAGE_SIZE = [176,208]               # 원본 이미지 크기(176,208)\n",
        "BATCH_SIZE = 5000\n",
        "test_split_percent = .1       # 테스트 데이터 분리\n",
        "validation_split_percent = .2 # 학습 확인을 위한 데이터 분리\n",
        "zoom = [.99,1.01]             \n",
        "bright_range = [.8,1.2]       \n",
        "layers_unlocked = True        \n",
        "lr = 0.01                   \n",
        "batch = 20                   # batch사이즈\n",
        "EPOCHS = 30                  # 에폭수\n"
      ],
      "metadata": {
        "id": "7wY614Uhfgrr"
      },
      "execution_count": 10,
      "outputs": []
    },
    {
      "cell_type": "code",
      "source": [
        "# 이미지 처리를 위한 imageDataGenerator\n",
        "train_dr = tf.keras.preprocessing.image.ImageDataGenerator(rescale=1./255,fill_mode='constant',cval=0,\n",
        "                                                           brightness_range=bright_range,zoom_range=zoom,\n",
        "                                                           data_format='channels_last',zca_whitening=False)\n",
        "\n",
        "#학습 데이터\n",
        "train_data_gen = train_dr.flow_from_directory(directory=\"/content/Alzheimer_Dataset/train\",target_size=IMAGE_SIZE,\n",
        "                                              batch_size=BATCH_SIZE)\n",
        "\n",
        "# 테스트 데이터\n",
        "test_dr = tf.keras.preprocessing.image.ImageDataGenerator(rescale=1./255,fill_mode='constant',cval=0,zoom_range=[1,1],\n",
        "                                                          data_format='channels_last') \n",
        "test_data_gen = test_dr.flow_from_directory(directory=\"/content/Alzheimer_Dataset/test\",target_size=IMAGE_SIZE,batch_size=BATCH_SIZE,\n",
        "                                           shuffle = False) # test data should not be shuffle"
      ],
      "metadata": {
        "colab": {
          "base_uri": "https://localhost:8080/"
        },
        "id": "P3mS1Iz-fnOE",
        "outputId": "50575f07-d02d-4d9b-b3ef-344910f48601"
      },
      "execution_count": 11,
      "outputs": [
        {
          "output_type": "stream",
          "name": "stdout",
          "text": [
            "Found 5121 images belonging to 4 classes.\n",
            "Found 1279 images belonging to 4 classes.\n"
          ]
        }
      ]
    },
    {
      "cell_type": "code",
      "source": [
        "# 데이터 라벨링하여 업로드\n",
        "train_data,train_labels =  train_data_gen.next()\n",
        "test_data,test_labels = test_data_gen.next()"
      ],
      "metadata": {
        "id": "KFccqfkEgWVt"
      },
      "execution_count": 12,
      "outputs": []
    },
    {
      "cell_type": "code",
      "source": [
        "# 배열을 연결하여 데이터 결합\n",
        "total_data = np.concatenate((train_data,test_data))\n",
        "total_labels = np.concatenate((train_labels,test_labels))\n",
        "print(total_data.shape)\n",
        "print(total_labels.shape)"
      ],
      "metadata": {
        "colab": {
          "base_uri": "https://localhost:8080/"
        },
        "id": "9jF8X7gcgkCs",
        "outputId": "cebaed5a-c24e-4cb1-f434-e0f6707d0943"
      },
      "execution_count": 13,
      "outputs": [
        {
          "output_type": "stream",
          "name": "stdout",
          "text": [
            "(6279, 176, 208, 3)\n",
            "(6279, 4)\n"
          ]
        }
      ]
    },
    {
      "cell_type": "code",
      "source": [
        "initial_split = test_split_percent+validation_split_percent\n",
        "test_val_split = test_split_percent/initial_split\n",
        "\n",
        "# 학습 데이터에서 학습, 확인용 데이터 분리\n",
        "train_data, test_val_data, train_labels, test_val_labels = train_test_split(total_data,total_labels,\n",
        "                                                                            test_size=initial_split)\n",
        "\n",
        "# 테스트 데이터에서 테스트, 확인용 데이터 분리\n",
        "test_data, val_data, test_labels, val_labels = train_test_split(test_val_data,test_val_labels,\n",
        "                                                                test_size=test_val_split)\n",
        "\n",
        "print('train: ',train_data.shape)\n",
        "print('validation',val_data.shape)\n",
        "print('test',test_data.shape)"
      ],
      "metadata": {
        "colab": {
          "base_uri": "https://localhost:8080/"
        },
        "id": "JlYmfgsXgrOr",
        "outputId": "dffb6819-551e-4622-e958-28d3d2272dc8"
      },
      "execution_count": 14,
      "outputs": [
        {
          "output_type": "stream",
          "name": "stdout",
          "text": [
            "train:  (4395, 176, 208, 3)\n",
            "validation (628, 176, 208, 3)\n",
            "test (1256, 176, 208, 3)\n"
          ]
        }
      ]
    },
    {
      "cell_type": "code",
      "source": [
        "# 데이터 형태 확인\n",
        "print(train_data.shape)\n",
        "print(train_labels.shape)\n",
        "print(val_data.shape)\n",
        "print(val_labels.shape)\n",
        "print(test_data.shape)\n",
        "print(test_labels.shape)"
      ],
      "metadata": {
        "colab": {
          "base_uri": "https://localhost:8080/"
        },
        "id": "_7HsbBMTgtAt",
        "outputId": "77e25620-df85-49bc-f781-c374be060e47"
      },
      "execution_count": 15,
      "outputs": [
        {
          "output_type": "stream",
          "name": "stdout",
          "text": [
            "(4395, 176, 208, 3)\n",
            "(4395, 4)\n",
            "(628, 176, 208, 3)\n",
            "(628, 4)\n",
            "(1256, 176, 208, 3)\n",
            "(1256, 4)\n"
          ]
        }
      ]
    },
    {
      "cell_type": "code",
      "source": [
        "# 이미지 일부 확인\n",
        "plt.subplot(221)\n",
        "plt.imshow(train_data[1,:,:,:])\n",
        "plt.subplot(222)\n",
        "plt.imshow(train_data[2,:,:,:])\n",
        "plt.subplot(223)\n",
        "plt.imshow(val_data[3,:,:,:])\n",
        "plt.subplot(224)\n",
        "plt.imshow(val_data[4,:,:,:])\n",
        "plt.show()\n",
        "plt.subplot(221)\n",
        "plt.imshow(test_data[5,:,:,:])\n",
        "plt.subplot(222)\n",
        "plt.imshow(test_data[154,:,:,:])"
      ],
      "metadata": {
        "colab": {
          "base_uri": "https://localhost:8080/",
          "height": 420
        },
        "id": "hnbk1SF3gvuj",
        "outputId": "7f174809-2643-44bb-d786-5f40015575ad"
      },
      "execution_count": 16,
      "outputs": [
        {
          "output_type": "display_data",
          "data": {
            "text/plain": [
              "<Figure size 432x288 with 4 Axes>"
            ],
            "image/png": "[encoded data removed]"
          },
          "metadata": {
            "needs_background": "light"
          }
        },
        {
          "output_type": "execute_result",
          "data": {
            "text/plain": [
              "<matplotlib.image.AxesImage at 0x7f39adf2c9a0>"
            ]
          },
          "metadata": {},
          "execution_count": 16
        },
        {
          "output_type": "display_data",
          "data": {
            "text/plain": [
              "<Figure size 432x288 with 2 Axes>"
            ],
            "image/png": "[encoded data removed]"
          },
          "metadata": {
            "needs_background": "light"
          }
        }
      ]
    },
    {
      "cell_type": "code",
      "source": [
        "# 원본 모델에서 훈련된 것과 동일한 방식으로 이미지를 전처리합니다.\n",
        "print(np.amax(train_data))\n",
        "print(np.amin(train_data))\n",
        "print(np.amax(val_data))\n",
        "print(np.amin(val_data))"
      ],
      "metadata": {
        "colab": {
          "base_uri": "https://localhost:8080/"
        },
        "id": "pyNr1l2Rgxq7",
        "outputId": "437e1574-b233-4741-981b-d37889be7a2c"
      },
      "execution_count": 17,
      "outputs": [
        {
          "output_type": "stream",
          "name": "stdout",
          "text": [
            "1.0\n",
            "0.0\n",
            "1.0\n",
            "0.0\n"
          ]
        }
      ]
    },
    {
      "cell_type": "code",
      "source": [
        "# 이미지 채널 확인\n",
        "plt.subplot(141)\n",
        "plt.imshow(train_data[3,:,:,0])\n",
        "plt.subplot(142)\n",
        "plt.imshow(train_data[3,:,:,1])\n",
        "plt.subplot(143)\n",
        "plt.imshow(train_data[3,:,:,2])\n",
        "plt.subplot(144)\n",
        "plt.imshow(train_data[3,:,:,:])"
      ],
      "metadata": {
        "colab": {
          "base_uri": "https://localhost:8080/",
          "height": 131
        },
        "id": "4ygDE8X8gy4c",
        "outputId": "9e62f456-3ecf-4b73-8fe4-8215cbee5fd8"
      },
      "execution_count": 18,
      "outputs": [
        {
          "output_type": "execute_result",
          "data": {
            "text/plain": [
              "<matplotlib.image.AxesImage at 0x7f39addb08b0>"
            ]
          },
          "metadata": {},
          "execution_count": 18
        },
        {
          "output_type": "display_data",
          "data": {
            "text/plain": [
              "<Figure size 432x288 with 4 Axes>"
            ],
            "image/png": "[encoded data removed]"
          },
          "metadata": {
            "needs_background": "light"
          }
        }
      ]
    },
    {
      "cell_type": "code",
      "source": [
        "# 모델에 사용될 레이어 블럭\n",
        "def conv_block(filters):\n",
        "    block = tf.keras.Sequential([\n",
        "        # 깊이별 분리 합성곱 사용 \n",
        "        # 입력 채널별로 따로따로 공간 방향의 합성곱을 수행\n",
        "        tf.keras.layers.SeparableConv2D(filters, 3, activation='relu', padding='same'),\n",
        "        tf.keras.layers.SeparableConv2D(filters, 3, activation='relu', padding='same'),\n",
        "        #tf.keras.layers.SeparableConv2D(filters, 3, activation='relu', strides=2, padding='same'),\n",
        "        tf.keras.layers.BatchNormalization(),\n",
        "        tf.keras.layers.MaxPool2D()\n",
        "    ])\n",
        "    \n",
        "    return block"
      ],
      "metadata": {
        "id": "hARlEj_Dg0p3"
      },
      "execution_count": 19,
      "outputs": []
    },
    {
      "cell_type": "code",
      "source": [
        "\n",
        "#모델에 사용될 레이어 블럭\n",
        "def dense_block(units, dropout_rate):\n",
        "    block = tf.keras.Sequential([\n",
        "        # Dense레이어 사용\n",
        "        # 뉴런의 입력과 출력을 연결해주는 역할\n",
        "        tf.keras.layers.Dense(units, activation='relu'),\n",
        "        tf.keras.layers.BatchNormalization(),\n",
        "        tf.keras.layers.Dropout(dropout_rate)\n",
        "    ])\n",
        "    \n",
        "    return block"
      ],
      "metadata": {
        "id": "DgVNQsDTg2Qs"
      },
      "execution_count": 20,
      "outputs": []
    },
    {
      "cell_type": "code",
      "source": [
        "# 최종 모델 빌드\n",
        "def build_model():\n",
        "    model = tf.keras.Sequential([\n",
        "        tf.keras.Input(shape=(*IMAGE_SIZE, 3)),\n",
        "        \n",
        "        tf.keras.layers.Conv2D(16, 3, activation='relu', padding='same'),\n",
        "        tf.keras.layers.Conv2D(16, 3, activation='relu', padding='same'),\n",
        "        #tf.keras.layers.Conv2D(16, 3, activation='relu', padding='same'),\n",
        "        tf.keras.layers.MaxPool2D(),\n",
        "        \n",
        "        conv_block(32),\n",
        "        conv_block(64),\n",
        "        \n",
        "        conv_block(128),\n",
        "        tf.keras.layers.Dropout(0.2),\n",
        "        \n",
        "        conv_block(256),\n",
        "        tf.keras.layers.Dropout(0.2),\n",
        "        \n",
        "        tf.keras.layers.Flatten(),\n",
        "        dense_block(512, 0.7),\n",
        "        dense_block(128, 0.5),\n",
        "        dense_block(64, 0.3),\n",
        "        \n",
        "        tf.keras.layers.Dense(4, activation='softmax')\n",
        "    ])\n",
        "    \n",
        "    return model"
      ],
      "metadata": {
        "id": "JC84QQ8ng3dl"
      },
      "execution_count": 21,
      "outputs": []
    },
    {
      "cell_type": "code",
      "source": [
        "with strategy.scope():\n",
        "    model = build_model()\n",
        "\n",
        "    METRICS = [tf.keras.metrics.BinaryAccuracy(name='accuracy'),tf.keras.metrics.Precision(name='precision'),\n",
        "               tf.keras.metrics.Recall(name='recall'),tf.keras.metrics.AUC(name='auc')]\n",
        "\n",
        "    \n",
        "    model.compile(\n",
        "        optimizer='adam', # 옵티마이저 아담 사용\n",
        "        loss=tf.losses.CategoricalCrossentropy(),\n",
        "        metrics=METRICS\n",
        "    )"
      ],
      "metadata": {
        "id": "2RwfWzHLg4kU"
      },
      "execution_count": 22,
      "outputs": []
    },
    {
      "cell_type": "code",
      "source": [
        "#학습 속도 조절 \n",
        "def exponential_decay(lr0, s):\n",
        "    def exponential_decay_fn(epoch):\n",
        "        return lr0 * 0.1 **(epoch / s)\n",
        "    return exponential_decay_fn\n",
        "\n",
        "exponential_decay_fn = exponential_decay(0.01, 20)\n",
        "\n",
        "# LearningRateScheduler는 epoch에 따라 학습률을 조정하는 callback입니다. 인자로 받는 schedule은 epoch index를 조정할 수 있는 function을 의미합니다.\n",
        "lr_scheduler = tf.keras.callbacks.LearningRateScheduler(exponential_decay_fn)\n",
        "\n",
        "early_stopping_cb = tf.keras.callbacks.EarlyStopping(patience=10, restore_best_weights=True)"
      ],
      "metadata": {
        "id": "Vi-U569Ug6BS"
      },
      "execution_count": 23,
      "outputs": []
    },
    {
      "cell_type": "code",
      "source": [
        "#학습 \n",
        "model_history = model.fit(train_data,train_labels,validation_data=(val_data,val_labels),\n",
        "                             epochs=EPOCHS,batch_size=batch, shuffle=True)\n",
        "scores = model.evaluate(train_data, train_labels)\n",
        "print(\"Accuracy: %.2f%%\" %(scores[1]*100))"
      ],
      "metadata": {
        "colab": {
          "base_uri": "https://localhost:8080/"
        },
        "id": "_h9NU0CSg7EF",
        "outputId": "ce5274e4-9994-43d9-82aa-2c368efad57c"
      },
      "execution_count": null,
      "outputs": [
        {
          "output_type": "stream",
          "name": "stdout",
          "text": [
            "Epoch 1/30\n",
            " 38/220 [====>.........................] - ETA: 4:47 - loss: 2.0483 - accuracy: 0.6819 - precision: 0.3043 - recall: 0.2118 - auc: 0.5391"
          ]
        }
      ]
    },
    {
      "cell_type": "code",
      "source": [
        "#모델 정확도 출력\n",
        "scores = model.evaluate(test_data, test_labels)\n",
        "pred_labels = model.predict(test_data)"
      ],
      "metadata": {
        "colab": {
          "base_uri": "https://localhost:8080/",
          "height": 193
        },
        "id": "6ajSN8t7g8tL",
        "outputId": "c6adf525-e849-4dce-fc56-c95e78353ae2"
      },
      "execution_count": 1,
      "outputs": [
        {
          "output_type": "error",
          "ename": "NameError",
          "evalue": "ignored",
          "traceback": [
            "\u001b[0;31m---------------------------------------------------------------------------\u001b[0m",
            "\u001b[0;31mNameError\u001b[0m                                 Traceback (most recent call last)",
            "\u001b[0;32m<ipython-input-1-ddbe233ebf26>\u001b[0m in \u001b[0;36m<module>\u001b[0;34m\u001b[0m\n\u001b[0;32m----> 1\u001b[0;31m \u001b[0mscores\u001b[0m \u001b[0;34m=\u001b[0m \u001b[0mmodel\u001b[0m\u001b[0;34m.\u001b[0m\u001b[0mevaluate\u001b[0m\u001b[0;34m(\u001b[0m\u001b[0mtest_data\u001b[0m\u001b[0;34m,\u001b[0m \u001b[0mtest_labels\u001b[0m\u001b[0;34m)\u001b[0m\u001b[0;34m\u001b[0m\u001b[0;34m\u001b[0m\u001b[0m\n\u001b[0m\u001b[1;32m      2\u001b[0m \u001b[0mpred_labels\u001b[0m \u001b[0;34m=\u001b[0m \u001b[0mmodel\u001b[0m\u001b[0;34m.\u001b[0m\u001b[0mpredict\u001b[0m\u001b[0;34m(\u001b[0m\u001b[0mtest_data\u001b[0m\u001b[0;34m)\u001b[0m\u001b[0;34m\u001b[0m\u001b[0;34m\u001b[0m\u001b[0m\n",
            "\u001b[0;31mNameError\u001b[0m: name 'model' is not defined"
          ]
        }
      ]
    }
  ]
}